{
 "cells": [
  {
   "cell_type": "markdown",
   "id": "6fcaa6a0",
   "metadata": {},
   "source": [
    "## Fake News Classifier using LSTM"
   ]
  },
  {
   "cell_type": "code",
   "execution_count": 1,
   "id": "7c1b41b9",
   "metadata": {},
   "outputs": [],
   "source": [
    "import pandas as pd\n",
    "data_train = pd.read_csv('/Users/felipe_q/Desktop/NLP_Kaggle_FakeNews/train.csv')"
   ]
  },
  {
   "cell_type": "code",
   "execution_count": 2,
   "id": "b3797752",
   "metadata": {},
   "outputs": [
    {
     "data": {
      "text/html": [
       "<div>\n",
       "<style scoped>\n",
       "    .dataframe tbody tr th:only-of-type {\n",
       "        vertical-align: middle;\n",
       "    }\n",
       "\n",
       "    .dataframe tbody tr th {\n",
       "        vertical-align: top;\n",
       "    }\n",
       "\n",
       "    .dataframe thead th {\n",
       "        text-align: right;\n",
       "    }\n",
       "</style>\n",
       "<table border=\"1\" class=\"dataframe\">\n",
       "  <thead>\n",
       "    <tr style=\"text-align: right;\">\n",
       "      <th></th>\n",
       "      <th>id</th>\n",
       "      <th>title</th>\n",
       "      <th>author</th>\n",
       "      <th>text</th>\n",
       "      <th>label</th>\n",
       "    </tr>\n",
       "  </thead>\n",
       "  <tbody>\n",
       "    <tr>\n",
       "      <th>0</th>\n",
       "      <td>0</td>\n",
       "      <td>House Dem Aide: We Didn’t Even See Comey’s Let...</td>\n",
       "      <td>Darrell Lucus</td>\n",
       "      <td>House Dem Aide: We Didn’t Even See Comey’s Let...</td>\n",
       "      <td>1</td>\n",
       "    </tr>\n",
       "    <tr>\n",
       "      <th>1</th>\n",
       "      <td>1</td>\n",
       "      <td>FLYNN: Hillary Clinton, Big Woman on Campus - ...</td>\n",
       "      <td>Daniel J. Flynn</td>\n",
       "      <td>Ever get the feeling your life circles the rou...</td>\n",
       "      <td>0</td>\n",
       "    </tr>\n",
       "    <tr>\n",
       "      <th>2</th>\n",
       "      <td>2</td>\n",
       "      <td>Why the Truth Might Get You Fired</td>\n",
       "      <td>Consortiumnews.com</td>\n",
       "      <td>Why the Truth Might Get You Fired October 29, ...</td>\n",
       "      <td>1</td>\n",
       "    </tr>\n",
       "    <tr>\n",
       "      <th>3</th>\n",
       "      <td>3</td>\n",
       "      <td>15 Civilians Killed In Single US Airstrike Hav...</td>\n",
       "      <td>Jessica Purkiss</td>\n",
       "      <td>Videos 15 Civilians Killed In Single US Airstr...</td>\n",
       "      <td>1</td>\n",
       "    </tr>\n",
       "    <tr>\n",
       "      <th>4</th>\n",
       "      <td>4</td>\n",
       "      <td>Iranian woman jailed for fictional unpublished...</td>\n",
       "      <td>Howard Portnoy</td>\n",
       "      <td>Print \\nAn Iranian woman has been sentenced to...</td>\n",
       "      <td>1</td>\n",
       "    </tr>\n",
       "  </tbody>\n",
       "</table>\n",
       "</div>"
      ],
      "text/plain": [
       "   id                                              title              author  \\\n",
       "0   0  House Dem Aide: We Didn’t Even See Comey’s Let...       Darrell Lucus   \n",
       "1   1  FLYNN: Hillary Clinton, Big Woman on Campus - ...     Daniel J. Flynn   \n",
       "2   2                  Why the Truth Might Get You Fired  Consortiumnews.com   \n",
       "3   3  15 Civilians Killed In Single US Airstrike Hav...     Jessica Purkiss   \n",
       "4   4  Iranian woman jailed for fictional unpublished...      Howard Portnoy   \n",
       "\n",
       "                                                text  label  \n",
       "0  House Dem Aide: We Didn’t Even See Comey’s Let...      1  \n",
       "1  Ever get the feeling your life circles the rou...      0  \n",
       "2  Why the Truth Might Get You Fired October 29, ...      1  \n",
       "3  Videos 15 Civilians Killed In Single US Airstr...      1  \n",
       "4  Print \\nAn Iranian woman has been sentenced to...      1  "
      ]
     },
     "execution_count": 2,
     "metadata": {},
     "output_type": "execute_result"
    }
   ],
   "source": [
    "data_train.head(5)"
   ]
  },
  {
   "cell_type": "markdown",
   "id": "6e993c6f",
   "metadata": {},
   "source": [
    "### Dropping Nan Values"
   ]
  },
  {
   "cell_type": "code",
   "execution_count": 3,
   "id": "c1bf91d7",
   "metadata": {},
   "outputs": [
    {
     "data": {
      "text/plain": [
       "(20800, 5)"
      ]
     },
     "execution_count": 3,
     "metadata": {},
     "output_type": "execute_result"
    }
   ],
   "source": [
    "data_train.shape"
   ]
  },
  {
   "cell_type": "code",
   "execution_count": 4,
   "id": "80a820ad",
   "metadata": {},
   "outputs": [],
   "source": [
    "data_train = data_train.dropna()"
   ]
  },
  {
   "cell_type": "code",
   "execution_count": 5,
   "id": "5feec8af",
   "metadata": {},
   "outputs": [
    {
     "data": {
      "text/plain": [
       "(18285, 5)"
      ]
     },
     "execution_count": 5,
     "metadata": {},
     "output_type": "execute_result"
    }
   ],
   "source": [
    "data_train.shape"
   ]
  },
  {
   "cell_type": "markdown",
   "id": "0e966ec2",
   "metadata": {},
   "source": [
    "### Data Preprocessing Step"
   ]
  },
  {
   "cell_type": "code",
   "execution_count": 6,
   "id": "9475f52f",
   "metadata": {},
   "outputs": [],
   "source": [
    "from nltk.corpus import stopwords\n",
    "stop_words = stopwords.words('english')"
   ]
  },
  {
   "cell_type": "code",
   "execution_count": 7,
   "id": "d4735e13",
   "metadata": {},
   "outputs": [],
   "source": [
    "import re\n",
    "import nltk\n",
    "from unidecode import unidecode\n",
    "import spacy\n",
    "nlp = spacy.load('en_core_web_sm')\n",
    "\n",
    "#bad_chars  = [',','']\n",
    "def preprocessing_text(paragraph):\n",
    "    \n",
    "    para_clean = unidecode(paragraph)\n",
    "    lower_case = para_clean.lower()\n",
    "    no_numbers = re.sub(r'\\d', '', lower_case) #Remove Numbers out of the Text\n",
    "    no_special_chars = re.sub(r'[^ a-zA-Z]', '', no_numbers) #Remove Special Characters\n",
    "    #out of the text\n",
    "    \n",
    "    return no_special_chars\n",
    "\n",
    "def stopwords_lemma(paragraph):\n",
    "    \n",
    "    empty_par = []\n",
    "    words_mod_lemma = nltk.tokenize.word_tokenize(paragraph)\n",
    "    \n",
    "    #Is taking too much time\n",
    "    #doc = nlp(paragraph)    \n",
    "    #words_mod_lemma = [word.lemma_ for word in doc if word not in set(stop_words)]\n",
    "    words_mod_lemma_2 = [word for word in words_mod_lemma if word not in stop_words]\n",
    "    \n",
    "    paragraph_2 = ' '.join(words_mod_lemma_2)\n",
    "    \n",
    "    return paragraph_2"
   ]
  },
  {
   "cell_type": "code",
   "execution_count": 8,
   "id": "6020d529",
   "metadata": {},
   "outputs": [],
   "source": [
    "data_train.title = data_train.title.apply(preprocessing_text)\n",
    "data_train.title = data_train.title.apply(stopwords_lemma)"
   ]
  },
  {
   "cell_type": "code",
   "execution_count": 9,
   "id": "979e66ad",
   "metadata": {},
   "outputs": [
    {
     "data": {
      "text/html": [
       "<div>\n",
       "<style scoped>\n",
       "    .dataframe tbody tr th:only-of-type {\n",
       "        vertical-align: middle;\n",
       "    }\n",
       "\n",
       "    .dataframe tbody tr th {\n",
       "        vertical-align: top;\n",
       "    }\n",
       "\n",
       "    .dataframe thead th {\n",
       "        text-align: right;\n",
       "    }\n",
       "</style>\n",
       "<table border=\"1\" class=\"dataframe\">\n",
       "  <thead>\n",
       "    <tr style=\"text-align: right;\">\n",
       "      <th></th>\n",
       "      <th>id</th>\n",
       "      <th>title</th>\n",
       "      <th>author</th>\n",
       "      <th>text</th>\n",
       "      <th>label</th>\n",
       "    </tr>\n",
       "  </thead>\n",
       "  <tbody>\n",
       "    <tr>\n",
       "      <th>0</th>\n",
       "      <td>0</td>\n",
       "      <td>house dem aide didnt even see comeys letter ja...</td>\n",
       "      <td>Darrell Lucus</td>\n",
       "      <td>House Dem Aide: We Didn’t Even See Comey’s Let...</td>\n",
       "      <td>1</td>\n",
       "    </tr>\n",
       "    <tr>\n",
       "      <th>1</th>\n",
       "      <td>1</td>\n",
       "      <td>flynn hillary clinton big woman campus breitbart</td>\n",
       "      <td>Daniel J. Flynn</td>\n",
       "      <td>Ever get the feeling your life circles the rou...</td>\n",
       "      <td>0</td>\n",
       "    </tr>\n",
       "    <tr>\n",
       "      <th>2</th>\n",
       "      <td>2</td>\n",
       "      <td>truth might get fired</td>\n",
       "      <td>Consortiumnews.com</td>\n",
       "      <td>Why the Truth Might Get You Fired October 29, ...</td>\n",
       "      <td>1</td>\n",
       "    </tr>\n",
       "    <tr>\n",
       "      <th>3</th>\n",
       "      <td>3</td>\n",
       "      <td>civilians killed single us airstrike identified</td>\n",
       "      <td>Jessica Purkiss</td>\n",
       "      <td>Videos 15 Civilians Killed In Single US Airstr...</td>\n",
       "      <td>1</td>\n",
       "    </tr>\n",
       "    <tr>\n",
       "      <th>4</th>\n",
       "      <td>4</td>\n",
       "      <td>iranian woman jailed fictional unpublished sto...</td>\n",
       "      <td>Howard Portnoy</td>\n",
       "      <td>Print \\nAn Iranian woman has been sentenced to...</td>\n",
       "      <td>1</td>\n",
       "    </tr>\n",
       "    <tr>\n",
       "      <th>...</th>\n",
       "      <td>...</td>\n",
       "      <td>...</td>\n",
       "      <td>...</td>\n",
       "      <td>...</td>\n",
       "      <td>...</td>\n",
       "    </tr>\n",
       "    <tr>\n",
       "      <th>20795</th>\n",
       "      <td>20795</td>\n",
       "      <td>rapper ti trump poster child white supremacy</td>\n",
       "      <td>Jerome Hudson</td>\n",
       "      <td>Rapper T. I. unloaded on black celebrities who...</td>\n",
       "      <td>0</td>\n",
       "    </tr>\n",
       "    <tr>\n",
       "      <th>20796</th>\n",
       "      <td>20796</td>\n",
       "      <td>nfl playoffs schedule matchups odds new york t...</td>\n",
       "      <td>Benjamin Hoffman</td>\n",
       "      <td>When the Green Bay Packers lost to the Washing...</td>\n",
       "      <td>0</td>\n",
       "    </tr>\n",
       "    <tr>\n",
       "      <th>20797</th>\n",
       "      <td>20797</td>\n",
       "      <td>macys said receive takeover approach hudsons b...</td>\n",
       "      <td>Michael J. de la Merced and Rachel Abrams</td>\n",
       "      <td>The Macy’s of today grew from the union of sev...</td>\n",
       "      <td>0</td>\n",
       "    </tr>\n",
       "    <tr>\n",
       "      <th>20798</th>\n",
       "      <td>20798</td>\n",
       "      <td>nato russia hold parallel exercises balkans</td>\n",
       "      <td>Alex Ansary</td>\n",
       "      <td>NATO, Russia To Hold Parallel Exercises In Bal...</td>\n",
       "      <td>1</td>\n",
       "    </tr>\n",
       "    <tr>\n",
       "      <th>20799</th>\n",
       "      <td>20799</td>\n",
       "      <td>keeps f alive</td>\n",
       "      <td>David Swanson</td>\n",
       "      <td>David Swanson is an author, activist, journa...</td>\n",
       "      <td>1</td>\n",
       "    </tr>\n",
       "  </tbody>\n",
       "</table>\n",
       "<p>18285 rows × 5 columns</p>\n",
       "</div>"
      ],
      "text/plain": [
       "          id                                              title  \\\n",
       "0          0  house dem aide didnt even see comeys letter ja...   \n",
       "1          1   flynn hillary clinton big woman campus breitbart   \n",
       "2          2                              truth might get fired   \n",
       "3          3    civilians killed single us airstrike identified   \n",
       "4          4  iranian woman jailed fictional unpublished sto...   \n",
       "...      ...                                                ...   \n",
       "20795  20795       rapper ti trump poster child white supremacy   \n",
       "20796  20796  nfl playoffs schedule matchups odds new york t...   \n",
       "20797  20797  macys said receive takeover approach hudsons b...   \n",
       "20798  20798        nato russia hold parallel exercises balkans   \n",
       "20799  20799                                      keeps f alive   \n",
       "\n",
       "                                          author  \\\n",
       "0                                  Darrell Lucus   \n",
       "1                                Daniel J. Flynn   \n",
       "2                             Consortiumnews.com   \n",
       "3                                Jessica Purkiss   \n",
       "4                                 Howard Portnoy   \n",
       "...                                          ...   \n",
       "20795                              Jerome Hudson   \n",
       "20796                           Benjamin Hoffman   \n",
       "20797  Michael J. de la Merced and Rachel Abrams   \n",
       "20798                                Alex Ansary   \n",
       "20799                              David Swanson   \n",
       "\n",
       "                                                    text  label  \n",
       "0      House Dem Aide: We Didn’t Even See Comey’s Let...      1  \n",
       "1      Ever get the feeling your life circles the rou...      0  \n",
       "2      Why the Truth Might Get You Fired October 29, ...      1  \n",
       "3      Videos 15 Civilians Killed In Single US Airstr...      1  \n",
       "4      Print \\nAn Iranian woman has been sentenced to...      1  \n",
       "...                                                  ...    ...  \n",
       "20795  Rapper T. I. unloaded on black celebrities who...      0  \n",
       "20796  When the Green Bay Packers lost to the Washing...      0  \n",
       "20797  The Macy’s of today grew from the union of sev...      0  \n",
       "20798  NATO, Russia To Hold Parallel Exercises In Bal...      1  \n",
       "20799    David Swanson is an author, activist, journa...      1  \n",
       "\n",
       "[18285 rows x 5 columns]"
      ]
     },
     "execution_count": 9,
     "metadata": {},
     "output_type": "execute_result"
    }
   ],
   "source": [
    "data_train"
   ]
  },
  {
   "cell_type": "markdown",
   "id": "d3e55470",
   "metadata": {},
   "source": [
    "#### OneHot Representation"
   ]
  },
  {
   "cell_type": "code",
   "execution_count": 10,
   "id": "e8ef8b88",
   "metadata": {},
   "outputs": [],
   "source": [
    "lista = [1,3,4]\n",
    "lista_2 = []\n",
    "lista_2.append(lista)"
   ]
  },
  {
   "cell_type": "code",
   "execution_count": 11,
   "id": "fa32b11a",
   "metadata": {},
   "outputs": [
    {
     "data": {
      "text/plain": [
       "[[1, 3, 4]]"
      ]
     },
     "execution_count": 11,
     "metadata": {},
     "output_type": "execute_result"
    }
   ],
   "source": [
    "lista_2"
   ]
  },
  {
   "cell_type": "code",
   "execution_count": 12,
   "id": "ea422aa8",
   "metadata": {},
   "outputs": [],
   "source": [
    "voc_size = 5000\n",
    "from tensorflow.keras.preprocessing.text import one_hot\n",
    "def one_hot_encoder(string):\n",
    "    \n",
    "    #string = string.split()\n",
    "    #encoded = [one_hot(words, voc_size) for words in string]\n",
    "    encoded_2 = []\n",
    "    encoded = one_hot(string, voc_size)\n",
    "    encoded_2.append(encoded)\n",
    "    return encoded_2\n",
    "\n",
    "data_train['encoded_title'] = ''\n",
    "data_train.encoded_title = data_train.title.apply(one_hot_encoder)"
   ]
  },
  {
   "cell_type": "code",
   "execution_count": 13,
   "id": "8dfb162c",
   "metadata": {},
   "outputs": [
    {
     "data": {
      "text/html": [
       "<div>\n",
       "<style scoped>\n",
       "    .dataframe tbody tr th:only-of-type {\n",
       "        vertical-align: middle;\n",
       "    }\n",
       "\n",
       "    .dataframe tbody tr th {\n",
       "        vertical-align: top;\n",
       "    }\n",
       "\n",
       "    .dataframe thead th {\n",
       "        text-align: right;\n",
       "    }\n",
       "</style>\n",
       "<table border=\"1\" class=\"dataframe\">\n",
       "  <thead>\n",
       "    <tr style=\"text-align: right;\">\n",
       "      <th></th>\n",
       "      <th>id</th>\n",
       "      <th>title</th>\n",
       "      <th>author</th>\n",
       "      <th>text</th>\n",
       "      <th>label</th>\n",
       "      <th>encoded_title</th>\n",
       "    </tr>\n",
       "  </thead>\n",
       "  <tbody>\n",
       "    <tr>\n",
       "      <th>0</th>\n",
       "      <td>0</td>\n",
       "      <td>house dem aide didnt even see comeys letter ja...</td>\n",
       "      <td>Darrell Lucus</td>\n",
       "      <td>House Dem Aide: We Didn’t Even See Comey’s Let...</td>\n",
       "      <td>1</td>\n",
       "      <td>[[1387, 1207, 3349, 568, 3081, 4348, 436, 1529...</td>\n",
       "    </tr>\n",
       "    <tr>\n",
       "      <th>1</th>\n",
       "      <td>1</td>\n",
       "      <td>flynn hillary clinton big woman campus breitbart</td>\n",
       "      <td>Daniel J. Flynn</td>\n",
       "      <td>Ever get the feeling your life circles the rou...</td>\n",
       "      <td>0</td>\n",
       "      <td>[[955, 2867, 428, 2851, 232, 977, 3757]]</td>\n",
       "    </tr>\n",
       "    <tr>\n",
       "      <th>2</th>\n",
       "      <td>2</td>\n",
       "      <td>truth might get fired</td>\n",
       "      <td>Consortiumnews.com</td>\n",
       "      <td>Why the Truth Might Get You Fired October 29, ...</td>\n",
       "      <td>1</td>\n",
       "      <td>[[1932, 1333, 4228, 1847]]</td>\n",
       "    </tr>\n",
       "    <tr>\n",
       "      <th>3</th>\n",
       "      <td>3</td>\n",
       "      <td>civilians killed single us airstrike identified</td>\n",
       "      <td>Jessica Purkiss</td>\n",
       "      <td>Videos 15 Civilians Killed In Single US Airstr...</td>\n",
       "      <td>1</td>\n",
       "      <td>[[4937, 2460, 3392, 2208, 90, 3423]]</td>\n",
       "    </tr>\n",
       "    <tr>\n",
       "      <th>4</th>\n",
       "      <td>4</td>\n",
       "      <td>iranian woman jailed fictional unpublished sto...</td>\n",
       "      <td>Howard Portnoy</td>\n",
       "      <td>Print \\nAn Iranian woman has been sentenced to...</td>\n",
       "      <td>1</td>\n",
       "      <td>[[432, 232, 4078, 1502, 2300, 1843, 232, 2670,...</td>\n",
       "    </tr>\n",
       "    <tr>\n",
       "      <th>...</th>\n",
       "      <td>...</td>\n",
       "      <td>...</td>\n",
       "      <td>...</td>\n",
       "      <td>...</td>\n",
       "      <td>...</td>\n",
       "      <td>...</td>\n",
       "    </tr>\n",
       "    <tr>\n",
       "      <th>20795</th>\n",
       "      <td>20795</td>\n",
       "      <td>rapper ti trump poster child white supremacy</td>\n",
       "      <td>Jerome Hudson</td>\n",
       "      <td>Rapper T. I. unloaded on black celebrities who...</td>\n",
       "      <td>0</td>\n",
       "      <td>[[1067, 623, 4707, 799, 2263, 1379, 2214]]</td>\n",
       "    </tr>\n",
       "    <tr>\n",
       "      <th>20796</th>\n",
       "      <td>20796</td>\n",
       "      <td>nfl playoffs schedule matchups odds new york t...</td>\n",
       "      <td>Benjamin Hoffman</td>\n",
       "      <td>When the Green Bay Packers lost to the Washing...</td>\n",
       "      <td>0</td>\n",
       "      <td>[[3694, 861, 3131, 569, 2762, 4226, 495, 2753]]</td>\n",
       "    </tr>\n",
       "    <tr>\n",
       "      <th>20797</th>\n",
       "      <td>20797</td>\n",
       "      <td>macys said receive takeover approach hudsons b...</td>\n",
       "      <td>Michael J. de la Merced and Rachel Abrams</td>\n",
       "      <td>The Macy’s of today grew from the union of sev...</td>\n",
       "      <td>0</td>\n",
       "      <td>[[725, 2855, 1204, 1247, 4498, 2477, 219, 4226...</td>\n",
       "    </tr>\n",
       "    <tr>\n",
       "      <th>20798</th>\n",
       "      <td>20798</td>\n",
       "      <td>nato russia hold parallel exercises balkans</td>\n",
       "      <td>Alex Ansary</td>\n",
       "      <td>NATO, Russia To Hold Parallel Exercises In Bal...</td>\n",
       "      <td>1</td>\n",
       "      <td>[[109, 651, 1698, 122, 4747, 2165]]</td>\n",
       "    </tr>\n",
       "    <tr>\n",
       "      <th>20799</th>\n",
       "      <td>20799</td>\n",
       "      <td>keeps f alive</td>\n",
       "      <td>David Swanson</td>\n",
       "      <td>David Swanson is an author, activist, journa...</td>\n",
       "      <td>1</td>\n",
       "      <td>[[4524, 4306, 1686]]</td>\n",
       "    </tr>\n",
       "  </tbody>\n",
       "</table>\n",
       "<p>18285 rows × 6 columns</p>\n",
       "</div>"
      ],
      "text/plain": [
       "          id                                              title  \\\n",
       "0          0  house dem aide didnt even see comeys letter ja...   \n",
       "1          1   flynn hillary clinton big woman campus breitbart   \n",
       "2          2                              truth might get fired   \n",
       "3          3    civilians killed single us airstrike identified   \n",
       "4          4  iranian woman jailed fictional unpublished sto...   \n",
       "...      ...                                                ...   \n",
       "20795  20795       rapper ti trump poster child white supremacy   \n",
       "20796  20796  nfl playoffs schedule matchups odds new york t...   \n",
       "20797  20797  macys said receive takeover approach hudsons b...   \n",
       "20798  20798        nato russia hold parallel exercises balkans   \n",
       "20799  20799                                      keeps f alive   \n",
       "\n",
       "                                          author  \\\n",
       "0                                  Darrell Lucus   \n",
       "1                                Daniel J. Flynn   \n",
       "2                             Consortiumnews.com   \n",
       "3                                Jessica Purkiss   \n",
       "4                                 Howard Portnoy   \n",
       "...                                          ...   \n",
       "20795                              Jerome Hudson   \n",
       "20796                           Benjamin Hoffman   \n",
       "20797  Michael J. de la Merced and Rachel Abrams   \n",
       "20798                                Alex Ansary   \n",
       "20799                              David Swanson   \n",
       "\n",
       "                                                    text  label  \\\n",
       "0      House Dem Aide: We Didn’t Even See Comey’s Let...      1   \n",
       "1      Ever get the feeling your life circles the rou...      0   \n",
       "2      Why the Truth Might Get You Fired October 29, ...      1   \n",
       "3      Videos 15 Civilians Killed In Single US Airstr...      1   \n",
       "4      Print \\nAn Iranian woman has been sentenced to...      1   \n",
       "...                                                  ...    ...   \n",
       "20795  Rapper T. I. unloaded on black celebrities who...      0   \n",
       "20796  When the Green Bay Packers lost to the Washing...      0   \n",
       "20797  The Macy’s of today grew from the union of sev...      0   \n",
       "20798  NATO, Russia To Hold Parallel Exercises In Bal...      1   \n",
       "20799    David Swanson is an author, activist, journa...      1   \n",
       "\n",
       "                                           encoded_title  \n",
       "0      [[1387, 1207, 3349, 568, 3081, 4348, 436, 1529...  \n",
       "1               [[955, 2867, 428, 2851, 232, 977, 3757]]  \n",
       "2                             [[1932, 1333, 4228, 1847]]  \n",
       "3                   [[4937, 2460, 3392, 2208, 90, 3423]]  \n",
       "4      [[432, 232, 4078, 1502, 2300, 1843, 232, 2670,...  \n",
       "...                                                  ...  \n",
       "20795         [[1067, 623, 4707, 799, 2263, 1379, 2214]]  \n",
       "20796    [[3694, 861, 3131, 569, 2762, 4226, 495, 2753]]  \n",
       "20797  [[725, 2855, 1204, 1247, 4498, 2477, 219, 4226...  \n",
       "20798                [[109, 651, 1698, 122, 4747, 2165]]  \n",
       "20799                               [[4524, 4306, 1686]]  \n",
       "\n",
       "[18285 rows x 6 columns]"
      ]
     },
     "execution_count": 13,
     "metadata": {},
     "output_type": "execute_result"
    }
   ],
   "source": [
    "data_train"
   ]
  },
  {
   "cell_type": "code",
   "execution_count": 14,
   "id": "0e923364",
   "metadata": {},
   "outputs": [],
   "source": [
    "from tensorflow.keras.preprocessing.sequence import pad_sequences\n",
    "\n",
    "def padded_encoded(line):\n",
    "        \n",
    "        embedded_title = pad_sequences(line, padding = 'pre', maxlen = sen_length)\n",
    "        return embedded_title\n",
    "        \n",
    "sen_length = 20\n",
    "data_train['embedded_title'] = ''\n",
    "data_train['embedded_title'] = data_train.encoded_title.apply(padded_encoded)"
   ]
  },
  {
   "cell_type": "code",
   "execution_count": 15,
   "id": "f41e908d",
   "metadata": {},
   "outputs": [],
   "source": [
    "def mod_encoded(line):\n",
    "    return line[0]\n",
    "\n",
    "data_train['embedded_title_2'] = ''\n",
    "data_train['embedded_title_2'] = data_train.embedded_title.apply(mod_encoded)"
   ]
  },
  {
   "cell_type": "code",
   "execution_count": 16,
   "id": "e913b640",
   "metadata": {},
   "outputs": [
    {
     "data": {
      "text/html": [
       "<div>\n",
       "<style scoped>\n",
       "    .dataframe tbody tr th:only-of-type {\n",
       "        vertical-align: middle;\n",
       "    }\n",
       "\n",
       "    .dataframe tbody tr th {\n",
       "        vertical-align: top;\n",
       "    }\n",
       "\n",
       "    .dataframe thead th {\n",
       "        text-align: right;\n",
       "    }\n",
       "</style>\n",
       "<table border=\"1\" class=\"dataframe\">\n",
       "  <thead>\n",
       "    <tr style=\"text-align: right;\">\n",
       "      <th></th>\n",
       "      <th>id</th>\n",
       "      <th>title</th>\n",
       "      <th>author</th>\n",
       "      <th>text</th>\n",
       "      <th>label</th>\n",
       "      <th>encoded_title</th>\n",
       "      <th>embedded_title</th>\n",
       "      <th>embedded_title_2</th>\n",
       "    </tr>\n",
       "  </thead>\n",
       "  <tbody>\n",
       "    <tr>\n",
       "      <th>0</th>\n",
       "      <td>0</td>\n",
       "      <td>house dem aide didnt even see comeys letter ja...</td>\n",
       "      <td>Darrell Lucus</td>\n",
       "      <td>House Dem Aide: We Didn’t Even See Comey’s Let...</td>\n",
       "      <td>1</td>\n",
       "      <td>[[1387, 1207, 3349, 568, 3081, 4348, 436, 1529...</td>\n",
       "      <td>[[0, 0, 0, 0, 0, 0, 0, 0, 0, 1387, 1207, 3349,...</td>\n",
       "      <td>[0, 0, 0, 0, 0, 0, 0, 0, 0, 1387, 1207, 3349, ...</td>\n",
       "    </tr>\n",
       "    <tr>\n",
       "      <th>1</th>\n",
       "      <td>1</td>\n",
       "      <td>flynn hillary clinton big woman campus breitbart</td>\n",
       "      <td>Daniel J. Flynn</td>\n",
       "      <td>Ever get the feeling your life circles the rou...</td>\n",
       "      <td>0</td>\n",
       "      <td>[[955, 2867, 428, 2851, 232, 977, 3757]]</td>\n",
       "      <td>[[0, 0, 0, 0, 0, 0, 0, 0, 0, 0, 0, 0, 0, 955, ...</td>\n",
       "      <td>[0, 0, 0, 0, 0, 0, 0, 0, 0, 0, 0, 0, 0, 955, 2...</td>\n",
       "    </tr>\n",
       "    <tr>\n",
       "      <th>2</th>\n",
       "      <td>2</td>\n",
       "      <td>truth might get fired</td>\n",
       "      <td>Consortiumnews.com</td>\n",
       "      <td>Why the Truth Might Get You Fired October 29, ...</td>\n",
       "      <td>1</td>\n",
       "      <td>[[1932, 1333, 4228, 1847]]</td>\n",
       "      <td>[[0, 0, 0, 0, 0, 0, 0, 0, 0, 0, 0, 0, 0, 0, 0,...</td>\n",
       "      <td>[0, 0, 0, 0, 0, 0, 0, 0, 0, 0, 0, 0, 0, 0, 0, ...</td>\n",
       "    </tr>\n",
       "    <tr>\n",
       "      <th>3</th>\n",
       "      <td>3</td>\n",
       "      <td>civilians killed single us airstrike identified</td>\n",
       "      <td>Jessica Purkiss</td>\n",
       "      <td>Videos 15 Civilians Killed In Single US Airstr...</td>\n",
       "      <td>1</td>\n",
       "      <td>[[4937, 2460, 3392, 2208, 90, 3423]]</td>\n",
       "      <td>[[0, 0, 0, 0, 0, 0, 0, 0, 0, 0, 0, 0, 0, 0, 49...</td>\n",
       "      <td>[0, 0, 0, 0, 0, 0, 0, 0, 0, 0, 0, 0, 0, 0, 493...</td>\n",
       "    </tr>\n",
       "    <tr>\n",
       "      <th>4</th>\n",
       "      <td>4</td>\n",
       "      <td>iranian woman jailed fictional unpublished sto...</td>\n",
       "      <td>Howard Portnoy</td>\n",
       "      <td>Print \\nAn Iranian woman has been sentenced to...</td>\n",
       "      <td>1</td>\n",
       "      <td>[[432, 232, 4078, 1502, 2300, 1843, 232, 2670,...</td>\n",
       "      <td>[[0, 0, 0, 0, 0, 0, 0, 0, 0, 0, 432, 232, 4078...</td>\n",
       "      <td>[0, 0, 0, 0, 0, 0, 0, 0, 0, 0, 432, 232, 4078,...</td>\n",
       "    </tr>\n",
       "    <tr>\n",
       "      <th>...</th>\n",
       "      <td>...</td>\n",
       "      <td>...</td>\n",
       "      <td>...</td>\n",
       "      <td>...</td>\n",
       "      <td>...</td>\n",
       "      <td>...</td>\n",
       "      <td>...</td>\n",
       "      <td>...</td>\n",
       "    </tr>\n",
       "    <tr>\n",
       "      <th>20795</th>\n",
       "      <td>20795</td>\n",
       "      <td>rapper ti trump poster child white supremacy</td>\n",
       "      <td>Jerome Hudson</td>\n",
       "      <td>Rapper T. I. unloaded on black celebrities who...</td>\n",
       "      <td>0</td>\n",
       "      <td>[[1067, 623, 4707, 799, 2263, 1379, 2214]]</td>\n",
       "      <td>[[0, 0, 0, 0, 0, 0, 0, 0, 0, 0, 0, 0, 0, 1067,...</td>\n",
       "      <td>[0, 0, 0, 0, 0, 0, 0, 0, 0, 0, 0, 0, 0, 1067, ...</td>\n",
       "    </tr>\n",
       "    <tr>\n",
       "      <th>20796</th>\n",
       "      <td>20796</td>\n",
       "      <td>nfl playoffs schedule matchups odds new york t...</td>\n",
       "      <td>Benjamin Hoffman</td>\n",
       "      <td>When the Green Bay Packers lost to the Washing...</td>\n",
       "      <td>0</td>\n",
       "      <td>[[3694, 861, 3131, 569, 2762, 4226, 495, 2753]]</td>\n",
       "      <td>[[0, 0, 0, 0, 0, 0, 0, 0, 0, 0, 0, 0, 3694, 86...</td>\n",
       "      <td>[0, 0, 0, 0, 0, 0, 0, 0, 0, 0, 0, 0, 3694, 861...</td>\n",
       "    </tr>\n",
       "    <tr>\n",
       "      <th>20797</th>\n",
       "      <td>20797</td>\n",
       "      <td>macys said receive takeover approach hudsons b...</td>\n",
       "      <td>Michael J. de la Merced and Rachel Abrams</td>\n",
       "      <td>The Macy’s of today grew from the union of sev...</td>\n",
       "      <td>0</td>\n",
       "      <td>[[725, 2855, 1204, 1247, 4498, 2477, 219, 4226...</td>\n",
       "      <td>[[0, 0, 0, 0, 0, 0, 0, 0, 0, 0, 725, 2855, 120...</td>\n",
       "      <td>[0, 0, 0, 0, 0, 0, 0, 0, 0, 0, 725, 2855, 1204...</td>\n",
       "    </tr>\n",
       "    <tr>\n",
       "      <th>20798</th>\n",
       "      <td>20798</td>\n",
       "      <td>nato russia hold parallel exercises balkans</td>\n",
       "      <td>Alex Ansary</td>\n",
       "      <td>NATO, Russia To Hold Parallel Exercises In Bal...</td>\n",
       "      <td>1</td>\n",
       "      <td>[[109, 651, 1698, 122, 4747, 2165]]</td>\n",
       "      <td>[[0, 0, 0, 0, 0, 0, 0, 0, 0, 0, 0, 0, 0, 0, 10...</td>\n",
       "      <td>[0, 0, 0, 0, 0, 0, 0, 0, 0, 0, 0, 0, 0, 0, 109...</td>\n",
       "    </tr>\n",
       "    <tr>\n",
       "      <th>20799</th>\n",
       "      <td>20799</td>\n",
       "      <td>keeps f alive</td>\n",
       "      <td>David Swanson</td>\n",
       "      <td>David Swanson is an author, activist, journa...</td>\n",
       "      <td>1</td>\n",
       "      <td>[[4524, 4306, 1686]]</td>\n",
       "      <td>[[0, 0, 0, 0, 0, 0, 0, 0, 0, 0, 0, 0, 0, 0, 0,...</td>\n",
       "      <td>[0, 0, 0, 0, 0, 0, 0, 0, 0, 0, 0, 0, 0, 0, 0, ...</td>\n",
       "    </tr>\n",
       "  </tbody>\n",
       "</table>\n",
       "<p>18285 rows × 8 columns</p>\n",
       "</div>"
      ],
      "text/plain": [
       "          id                                              title  \\\n",
       "0          0  house dem aide didnt even see comeys letter ja...   \n",
       "1          1   flynn hillary clinton big woman campus breitbart   \n",
       "2          2                              truth might get fired   \n",
       "3          3    civilians killed single us airstrike identified   \n",
       "4          4  iranian woman jailed fictional unpublished sto...   \n",
       "...      ...                                                ...   \n",
       "20795  20795       rapper ti trump poster child white supremacy   \n",
       "20796  20796  nfl playoffs schedule matchups odds new york t...   \n",
       "20797  20797  macys said receive takeover approach hudsons b...   \n",
       "20798  20798        nato russia hold parallel exercises balkans   \n",
       "20799  20799                                      keeps f alive   \n",
       "\n",
       "                                          author  \\\n",
       "0                                  Darrell Lucus   \n",
       "1                                Daniel J. Flynn   \n",
       "2                             Consortiumnews.com   \n",
       "3                                Jessica Purkiss   \n",
       "4                                 Howard Portnoy   \n",
       "...                                          ...   \n",
       "20795                              Jerome Hudson   \n",
       "20796                           Benjamin Hoffman   \n",
       "20797  Michael J. de la Merced and Rachel Abrams   \n",
       "20798                                Alex Ansary   \n",
       "20799                              David Swanson   \n",
       "\n",
       "                                                    text  label  \\\n",
       "0      House Dem Aide: We Didn’t Even See Comey’s Let...      1   \n",
       "1      Ever get the feeling your life circles the rou...      0   \n",
       "2      Why the Truth Might Get You Fired October 29, ...      1   \n",
       "3      Videos 15 Civilians Killed In Single US Airstr...      1   \n",
       "4      Print \\nAn Iranian woman has been sentenced to...      1   \n",
       "...                                                  ...    ...   \n",
       "20795  Rapper T. I. unloaded on black celebrities who...      0   \n",
       "20796  When the Green Bay Packers lost to the Washing...      0   \n",
       "20797  The Macy’s of today grew from the union of sev...      0   \n",
       "20798  NATO, Russia To Hold Parallel Exercises In Bal...      1   \n",
       "20799    David Swanson is an author, activist, journa...      1   \n",
       "\n",
       "                                           encoded_title  \\\n",
       "0      [[1387, 1207, 3349, 568, 3081, 4348, 436, 1529...   \n",
       "1               [[955, 2867, 428, 2851, 232, 977, 3757]]   \n",
       "2                             [[1932, 1333, 4228, 1847]]   \n",
       "3                   [[4937, 2460, 3392, 2208, 90, 3423]]   \n",
       "4      [[432, 232, 4078, 1502, 2300, 1843, 232, 2670,...   \n",
       "...                                                  ...   \n",
       "20795         [[1067, 623, 4707, 799, 2263, 1379, 2214]]   \n",
       "20796    [[3694, 861, 3131, 569, 2762, 4226, 495, 2753]]   \n",
       "20797  [[725, 2855, 1204, 1247, 4498, 2477, 219, 4226...   \n",
       "20798                [[109, 651, 1698, 122, 4747, 2165]]   \n",
       "20799                               [[4524, 4306, 1686]]   \n",
       "\n",
       "                                          embedded_title  \\\n",
       "0      [[0, 0, 0, 0, 0, 0, 0, 0, 0, 1387, 1207, 3349,...   \n",
       "1      [[0, 0, 0, 0, 0, 0, 0, 0, 0, 0, 0, 0, 0, 955, ...   \n",
       "2      [[0, 0, 0, 0, 0, 0, 0, 0, 0, 0, 0, 0, 0, 0, 0,...   \n",
       "3      [[0, 0, 0, 0, 0, 0, 0, 0, 0, 0, 0, 0, 0, 0, 49...   \n",
       "4      [[0, 0, 0, 0, 0, 0, 0, 0, 0, 0, 432, 232, 4078...   \n",
       "...                                                  ...   \n",
       "20795  [[0, 0, 0, 0, 0, 0, 0, 0, 0, 0, 0, 0, 0, 1067,...   \n",
       "20796  [[0, 0, 0, 0, 0, 0, 0, 0, 0, 0, 0, 0, 3694, 86...   \n",
       "20797  [[0, 0, 0, 0, 0, 0, 0, 0, 0, 0, 725, 2855, 120...   \n",
       "20798  [[0, 0, 0, 0, 0, 0, 0, 0, 0, 0, 0, 0, 0, 0, 10...   \n",
       "20799  [[0, 0, 0, 0, 0, 0, 0, 0, 0, 0, 0, 0, 0, 0, 0,...   \n",
       "\n",
       "                                        embedded_title_2  \n",
       "0      [0, 0, 0, 0, 0, 0, 0, 0, 0, 1387, 1207, 3349, ...  \n",
       "1      [0, 0, 0, 0, 0, 0, 0, 0, 0, 0, 0, 0, 0, 955, 2...  \n",
       "2      [0, 0, 0, 0, 0, 0, 0, 0, 0, 0, 0, 0, 0, 0, 0, ...  \n",
       "3      [0, 0, 0, 0, 0, 0, 0, 0, 0, 0, 0, 0, 0, 0, 493...  \n",
       "4      [0, 0, 0, 0, 0, 0, 0, 0, 0, 0, 432, 232, 4078,...  \n",
       "...                                                  ...  \n",
       "20795  [0, 0, 0, 0, 0, 0, 0, 0, 0, 0, 0, 0, 0, 1067, ...  \n",
       "20796  [0, 0, 0, 0, 0, 0, 0, 0, 0, 0, 0, 0, 3694, 861...  \n",
       "20797  [0, 0, 0, 0, 0, 0, 0, 0, 0, 0, 725, 2855, 1204...  \n",
       "20798  [0, 0, 0, 0, 0, 0, 0, 0, 0, 0, 0, 0, 0, 0, 109...  \n",
       "20799  [0, 0, 0, 0, 0, 0, 0, 0, 0, 0, 0, 0, 0, 0, 0, ...  \n",
       "\n",
       "[18285 rows x 8 columns]"
      ]
     },
     "execution_count": 16,
     "metadata": {},
     "output_type": "execute_result"
    }
   ],
   "source": [
    "data_train"
   ]
  },
  {
   "cell_type": "markdown",
   "id": "009b3812",
   "metadata": {},
   "source": [
    "### Model Creation"
   ]
  },
  {
   "cell_type": "code",
   "execution_count": 17,
   "id": "381c9db5",
   "metadata": {},
   "outputs": [],
   "source": [
    "import tensorflow as tf"
   ]
  },
  {
   "cell_type": "code",
   "execution_count": 18,
   "id": "cfc7bd89",
   "metadata": {},
   "outputs": [],
   "source": [
    "from tensorflow.keras.layers import Embedding\n",
    "from tensorflow.keras.models import Sequential\n",
    "from tensorflow.keras.layers import LSTM\n",
    "from tensorflow.keras.layers import Dense "
   ]
  },
  {
   "cell_type": "code",
   "execution_count": 54,
   "id": "55763af8",
   "metadata": {},
   "outputs": [
    {
     "name": "stdout",
     "output_type": "stream",
     "text": [
      "Model: \"sequential_2\"\n",
      "_________________________________________________________________\n",
      " Layer (type)                Output Shape              Param #   \n",
      "=================================================================\n",
      " embedding_2 (Embedding)     (None, 20, 40)            200000    \n",
      "                                                                 \n",
      " lstm_2 (LSTM)               (None, 100)               56400     \n",
      "                                                                 \n",
      " dense_2 (Dense)             (None, 1)                 101       \n",
      "                                                                 \n",
      "=================================================================\n",
      "Total params: 256501 (1001.96 KB)\n",
      "Trainable params: 256501 (1001.96 KB)\n",
      "Non-trainable params: 0 (0.00 Byte)\n",
      "_________________________________________________________________\n",
      "None\n"
     ]
    }
   ],
   "source": [
    "#Creating the Model\n",
    "embedding_vector_features = 40 #It converts each input into number of features of vectors.\n",
    "#Take a look at the notebook on TRAIN_NLP on github\n",
    "\n",
    "model= Sequential()\n",
    "model.add(Embedding(voc_size, embedding_vector_features, input_length = sen_length))\n",
    "model.add(LSTM(100)) # 1 LSTM Layer with 100 neurons.\n",
    "model.add(Dense(1, activation = 'sigmoid')) #Dense Layer is for classification problems\n",
    "# 1 Final Output with the respective activation function (\n",
    "#It converts the value to become a probability to be class 1 or class2) \n",
    "model.compile(loss = 'binary_crossentropy', optimizer = 'adam', metrics = ['accuracy'])\n",
    "print(model.summary())"
   ]
  },
  {
   "cell_type": "markdown",
   "id": "31756a1d",
   "metadata": {},
   "source": [
    "###  Modify Descriptive Variables"
   ]
  },
  {
   "cell_type": "code",
   "execution_count": 55,
   "id": "a13a958d",
   "metadata": {},
   "outputs": [],
   "source": [
    "data_train.reset_index(drop = True, inplace = True)\n",
    "embedded_docs = []\n",
    "\n",
    "for i in range(len(data_train)):\n",
    "    \n",
    "    embedded_docs.append(list(data_train.loc[i, 'embedded_title_2']))"
   ]
  },
  {
   "cell_type": "code",
   "execution_count": 56,
   "id": "a930bdc8",
   "metadata": {},
   "outputs": [],
   "source": [
    "import numpy as np \n",
    "X_final = np.array(embedded_docs)\n",
    "y_final = np.array(data_train.label)"
   ]
  },
  {
   "cell_type": "markdown",
   "id": "e60ab8b8",
   "metadata": {},
   "source": [
    "### Train Test Split Data Step"
   ]
  },
  {
   "cell_type": "code",
   "execution_count": 57,
   "id": "9ba5073d",
   "metadata": {},
   "outputs": [],
   "source": [
    "from sklearn.model_selection import train_test_split\n",
    "X_train, X_test, y_train, y_test = train_test_split(X_final, y_final)"
   ]
  },
  {
   "cell_type": "markdown",
   "id": "7f870e85",
   "metadata": {},
   "source": [
    "### Model Training"
   ]
  },
  {
   "cell_type": "code",
   "execution_count": 58,
   "id": "313734a5",
   "metadata": {},
   "outputs": [
    {
     "name": "stdout",
     "output_type": "stream",
     "text": [
      "Epoch 1/10\n",
      "215/215 [==============================] - 5s 18ms/step - loss: 0.3216 - accuracy: 0.8480 - val_loss: 0.2142 - val_accuracy: 0.9075\n",
      "Epoch 2/10\n",
      "215/215 [==============================] - 4s 17ms/step - loss: 0.1365 - accuracy: 0.9479 - val_loss: 0.2146 - val_accuracy: 0.9088\n",
      "Epoch 3/10\n",
      "215/215 [==============================] - 4s 17ms/step - loss: 0.0880 - accuracy: 0.9687 - val_loss: 0.2220 - val_accuracy: 0.9147\n",
      "Epoch 4/10\n",
      "215/215 [==============================] - 3s 16ms/step - loss: 0.0576 - accuracy: 0.9810 - val_loss: 0.2913 - val_accuracy: 0.9029\n",
      "Epoch 5/10\n",
      "215/215 [==============================] - 3s 16ms/step - loss: 0.0315 - accuracy: 0.9888 - val_loss: 0.3458 - val_accuracy: 0.8952\n",
      "Epoch 6/10\n",
      "215/215 [==============================] - 4s 17ms/step - loss: 0.0205 - accuracy: 0.9937 - val_loss: 0.4665 - val_accuracy: 0.8970\n",
      "Epoch 7/10\n",
      "215/215 [==============================] - 4s 16ms/step - loss: 0.0103 - accuracy: 0.9969 - val_loss: 0.4650 - val_accuracy: 0.9073\n",
      "Epoch 8/10\n",
      "215/215 [==============================] - 4s 17ms/step - loss: 0.0082 - accuracy: 0.9975 - val_loss: 0.5444 - val_accuracy: 0.9079\n",
      "Epoch 9/10\n",
      "215/215 [==============================] - 3s 16ms/step - loss: 0.0053 - accuracy: 0.9986 - val_loss: 0.6204 - val_accuracy: 0.8990\n",
      "Epoch 10/10\n",
      "215/215 [==============================] - 4s 17ms/step - loss: 0.0037 - accuracy: 0.9991 - val_loss: 0.5734 - val_accuracy: 0.9081\n"
     ]
    },
    {
     "data": {
      "text/plain": [
       "<keras.src.callbacks.History at 0x2b2510690>"
      ]
     },
     "execution_count": 58,
     "metadata": {},
     "output_type": "execute_result"
    }
   ],
   "source": [
    "model.fit(X_train, y_train, validation_data = (X_test, y_test), epochs = 10, batch_size = 64)"
   ]
  },
  {
   "cell_type": "markdown",
   "id": "d1421dcb",
   "metadata": {},
   "source": [
    "### Performance Metrics"
   ]
  },
  {
   "cell_type": "code",
   "execution_count": 60,
   "id": "a7b7c9fc",
   "metadata": {},
   "outputs": [
    {
     "name": "stdout",
     "output_type": "stream",
     "text": [
      "143/143 [==============================] - 1s 3ms/step\n"
     ]
    }
   ],
   "source": [
    "#y_pred = model.predict_classes(X_test)\n",
    "y_pred=model.predict(X_test) \n",
    "#y_pred_2=np.argmax(y_pred,axis=1)"
   ]
  },
  {
   "cell_type": "code",
   "execution_count": 61,
   "id": "c2df591d",
   "metadata": {},
   "outputs": [],
   "source": [
    "predictions = (y_pred > 0.5).astype('int32')"
   ]
  },
  {
   "cell_type": "code",
   "execution_count": 62,
   "id": "1a81ebc7",
   "metadata": {},
   "outputs": [
    {
     "data": {
      "text/plain": [
       "array([[1],\n",
       "       [0],\n",
       "       [0],\n",
       "       ...,\n",
       "       [0],\n",
       "       [1],\n",
       "       [0]], dtype=int32)"
      ]
     },
     "execution_count": 62,
     "metadata": {},
     "output_type": "execute_result"
    }
   ],
   "source": [
    "predictions"
   ]
  },
  {
   "cell_type": "code",
   "execution_count": 63,
   "id": "08b878d9",
   "metadata": {},
   "outputs": [
    {
     "data": {
      "text/plain": [
       "array([0, 0, 0, ..., 0, 0, 0])"
      ]
     },
     "execution_count": 63,
     "metadata": {},
     "output_type": "execute_result"
    }
   ],
   "source": [
    "y_pred_2"
   ]
  },
  {
   "cell_type": "code",
   "execution_count": 64,
   "id": "aa2106e1",
   "metadata": {},
   "outputs": [
    {
     "data": {
      "text/plain": [
       "array([[2361,  256],\n",
       "       [ 164, 1791]])"
      ]
     },
     "execution_count": 64,
     "metadata": {},
     "output_type": "execute_result"
    }
   ],
   "source": [
    "from sklearn.metrics import confusion_matrix\n",
    "confusion_matrix(y_test, predictions)"
   ]
  }
 ],
 "metadata": {
  "kernelspec": {
   "display_name": "Python 3 (ipykernel)",
   "language": "python",
   "name": "python3"
  },
  "language_info": {
   "codemirror_mode": {
    "name": "ipython",
    "version": 3
   },
   "file_extension": ".py",
   "mimetype": "text/x-python",
   "name": "python",
   "nbconvert_exporter": "python",
   "pygments_lexer": "ipython3",
   "version": "3.11.5"
  }
 },
 "nbformat": 4,
 "nbformat_minor": 5
}
